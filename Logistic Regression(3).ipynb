{
 "cells": [
  {
   "cell_type": "code",
   "execution_count": 130,
   "metadata": {},
   "outputs": [],
   "source": [
    "from sklearn import datasets\n",
    "import pandas as pd\n",
    "import numpy as np\n",
    "\n",
    "import matplotlib.pyplot as plt\n",
    "import seaborn as sns\n",
    "from sklearn.linear_model import LogisticRegression\n",
    "from sklearn.linear_model import LinearRegression\n",
    "import matplotlib.pyplot as plt\n",
    "from sklearn.preprocessing import OneHotEncoder"
   ]
  },
  {
   "cell_type": "code",
   "execution_count": 131,
   "metadata": {},
   "outputs": [
    {
     "data": {
      "text/html": [
       "<div>\n",
       "<style scoped>\n",
       "    .dataframe tbody tr th:only-of-type {\n",
       "        vertical-align: middle;\n",
       "    }\n",
       "\n",
       "    .dataframe tbody tr th {\n",
       "        vertical-align: top;\n",
       "    }\n",
       "\n",
       "    .dataframe thead th {\n",
       "        text-align: right;\n",
       "    }\n",
       "</style>\n",
       "<table border=\"1\" class=\"dataframe\">\n",
       "  <thead>\n",
       "    <tr style=\"text-align: right;\">\n",
       "      <th></th>\n",
       "      <th>revisit</th>\n",
       "      <th>decision_time_code</th>\n",
       "      <th>purpose</th>\n",
       "      <th>motivation1</th>\n",
       "      <th>path_get_inform1</th>\n",
       "      <th>companion_alone</th>\n",
       "      <th>companion_family</th>\n",
       "      <th>companion_friend_couple</th>\n",
       "      <th>companion_colleague</th>\n",
       "      <th>companion_etc</th>\n",
       "      <th>...</th>\n",
       "      <th>purpose.6</th>\n",
       "      <th>purpose.7</th>\n",
       "      <th>purpose.8</th>\n",
       "      <th>travel_type.1</th>\n",
       "      <th>travel_type.2</th>\n",
       "      <th>travel_type.3</th>\n",
       "      <th>season.1</th>\n",
       "      <th>season.2</th>\n",
       "      <th>season.3</th>\n",
       "      <th>season.4</th>\n",
       "    </tr>\n",
       "  </thead>\n",
       "  <tbody>\n",
       "    <tr>\n",
       "      <th>0</th>\n",
       "      <td>0</td>\n",
       "      <td>1</td>\n",
       "      <td>1</td>\n",
       "      <td>1.0</td>\n",
       "      <td>2</td>\n",
       "      <td>0</td>\n",
       "      <td>1</td>\n",
       "      <td>0</td>\n",
       "      <td>0</td>\n",
       "      <td>0</td>\n",
       "      <td>...</td>\n",
       "      <td>0</td>\n",
       "      <td>0</td>\n",
       "      <td>0</td>\n",
       "      <td>1</td>\n",
       "      <td>0</td>\n",
       "      <td>0</td>\n",
       "      <td>0</td>\n",
       "      <td>1</td>\n",
       "      <td>0</td>\n",
       "      <td>0</td>\n",
       "    </tr>\n",
       "    <tr>\n",
       "      <th>1</th>\n",
       "      <td>0</td>\n",
       "      <td>1</td>\n",
       "      <td>1</td>\n",
       "      <td>1.0</td>\n",
       "      <td>2</td>\n",
       "      <td>0</td>\n",
       "      <td>1</td>\n",
       "      <td>0</td>\n",
       "      <td>0</td>\n",
       "      <td>0</td>\n",
       "      <td>...</td>\n",
       "      <td>0</td>\n",
       "      <td>0</td>\n",
       "      <td>0</td>\n",
       "      <td>1</td>\n",
       "      <td>0</td>\n",
       "      <td>0</td>\n",
       "      <td>0</td>\n",
       "      <td>1</td>\n",
       "      <td>0</td>\n",
       "      <td>0</td>\n",
       "    </tr>\n",
       "    <tr>\n",
       "      <th>2</th>\n",
       "      <td>0</td>\n",
       "      <td>1</td>\n",
       "      <td>1</td>\n",
       "      <td>1.0</td>\n",
       "      <td>5</td>\n",
       "      <td>0</td>\n",
       "      <td>1</td>\n",
       "      <td>0</td>\n",
       "      <td>0</td>\n",
       "      <td>0</td>\n",
       "      <td>...</td>\n",
       "      <td>0</td>\n",
       "      <td>0</td>\n",
       "      <td>0</td>\n",
       "      <td>1</td>\n",
       "      <td>0</td>\n",
       "      <td>0</td>\n",
       "      <td>0</td>\n",
       "      <td>1</td>\n",
       "      <td>0</td>\n",
       "      <td>0</td>\n",
       "    </tr>\n",
       "    <tr>\n",
       "      <th>3</th>\n",
       "      <td>0</td>\n",
       "      <td>1</td>\n",
       "      <td>1</td>\n",
       "      <td>1.0</td>\n",
       "      <td>3</td>\n",
       "      <td>0</td>\n",
       "      <td>1</td>\n",
       "      <td>0</td>\n",
       "      <td>0</td>\n",
       "      <td>0</td>\n",
       "      <td>...</td>\n",
       "      <td>0</td>\n",
       "      <td>0</td>\n",
       "      <td>0</td>\n",
       "      <td>1</td>\n",
       "      <td>0</td>\n",
       "      <td>0</td>\n",
       "      <td>0</td>\n",
       "      <td>0</td>\n",
       "      <td>1</td>\n",
       "      <td>0</td>\n",
       "    </tr>\n",
       "    <tr>\n",
       "      <th>4</th>\n",
       "      <td>0</td>\n",
       "      <td>1</td>\n",
       "      <td>1</td>\n",
       "      <td>1.0</td>\n",
       "      <td>3</td>\n",
       "      <td>0</td>\n",
       "      <td>0</td>\n",
       "      <td>1</td>\n",
       "      <td>0</td>\n",
       "      <td>0</td>\n",
       "      <td>...</td>\n",
       "      <td>0</td>\n",
       "      <td>0</td>\n",
       "      <td>0</td>\n",
       "      <td>1</td>\n",
       "      <td>0</td>\n",
       "      <td>0</td>\n",
       "      <td>0</td>\n",
       "      <td>0</td>\n",
       "      <td>0</td>\n",
       "      <td>1</td>\n",
       "    </tr>\n",
       "  </tbody>\n",
       "</table>\n",
       "<p>5 rows × 63 columns</p>\n",
       "</div>"
      ],
      "text/plain": [
       "   revisit  decision_time_code  purpose  motivation1  path_get_inform1  \\\n",
       "0        0                   1        1          1.0                 2   \n",
       "1        0                   1        1          1.0                 2   \n",
       "2        0                   1        1          1.0                 5   \n",
       "3        0                   1        1          1.0                 3   \n",
       "4        0                   1        1          1.0                 3   \n",
       "\n",
       "   companion_alone  companion_family  companion_friend_couple  \\\n",
       "0                0                 1                        0   \n",
       "1                0                 1                        0   \n",
       "2                0                 1                        0   \n",
       "3                0                 1                        0   \n",
       "4                0                 0                        1   \n",
       "\n",
       "   companion_colleague  companion_etc    ...     purpose.6  purpose.7  \\\n",
       "0                    0              0    ...             0          0   \n",
       "1                    0              0    ...             0          0   \n",
       "2                    0              0    ...             0          0   \n",
       "3                    0              0    ...             0          0   \n",
       "4                    0              0    ...             0          0   \n",
       "\n",
       "   purpose.8  travel_type.1  travel_type.2  travel_type.3  season.1  season.2  \\\n",
       "0          0              1              0              0         0         1   \n",
       "1          0              1              0              0         0         1   \n",
       "2          0              1              0              0         0         1   \n",
       "3          0              1              0              0         0         0   \n",
       "4          0              1              0              0         0         0   \n",
       "\n",
       "   season.3  season.4  \n",
       "0         0         0  \n",
       "1         0         0  \n",
       "2         0         0  \n",
       "3         1         0  \n",
       "4         0         1  \n",
       "\n",
       "[5 rows x 63 columns]"
      ]
     },
     "metadata": {},
     "output_type": "display_data"
    }
   ],
   "source": [
    "#전체 Data Load\n",
    "visit_with_dummy= pd.read_csv('C:\\\\Users\\wjdtj/fulldata_final_dummy.csv')\n",
    "visit_with_dummy.head()\n",
    "visit_with_dummy.shape\n",
    "display(visit_with_dummy.head())\n",
    "\n",
    "#클러스터(1~4)별 Data Load\n",
    "visit_with_dummy_cluster1= pd.read_csv('C:\\\\Users\\wjdtj/fulldata_final_dummy_group1.csv')\n",
    "visit_with_dummy_cluster2= pd.read_csv('C:\\\\Users\\wjdtj/fulldata_final_dummy_group2.csv')\n",
    "visit_with_dummy_cluster3= pd.read_csv('C:\\\\Users\\wjdtj/fulldata_final_dummy_group3.csv')\n",
    "visit_with_dummy_cluster4= pd.read_csv('C:\\\\Users\\wjdtj/fulldata_final_dummy_group4.csv')"
   ]
  },
  {
   "cell_type": "code",
   "execution_count": 132,
   "metadata": {},
   "outputs": [],
   "source": [
    "#전체 데이터를 범주형 변수인 <purpose, travel_type, season>을 One-Hot-Encoding 처리\n",
    "#연속형 변수인 <num_companion, period>\n",
    "#Y 변수 = Recommend Intention\n",
    "#Total Datasets : 13391\n",
    "#Recommend Intention 1~3 ->0        : 1879 data     \n",
    "#Recommend Intention 4~5 ->1        : 11512 data"
   ]
  },
  {
   "cell_type": "code",
   "execution_count": 133,
   "metadata": {},
   "outputs": [],
   "source": [
    "X_all = visit_with_dummy[['purpose.1','purpose.2','purpose.3','purpose.4',\n",
    "                      'purpose.5','purpose.6','purpose.7','purpose.8',\n",
    "                      'travel_type.1','travel_type.2','travel_type.3',\n",
    "                      'season.1','season.2','season.3','season.4',\n",
    "                      'num_companion', 'period']]\n",
    "y_all = visit_with_dummy[['Y']]"
   ]
  },
  {
   "cell_type": "code",
   "execution_count": 134,
   "metadata": {},
   "outputs": [
    {
     "name": "stdout",
     "output_type": "stream",
     "text": [
      "slope:  [ 5.63989087e+10  5.63989087e+10  5.63989087e+10  5.63989087e+10\n",
      "  5.63989087e+10  5.63989087e+10  5.63989087e+10  5.63989087e+10\n",
      " -4.46620826e+10 -4.46620826e+10 -4.46620826e+10  7.43176912e+11\n",
      "  7.43176912e+11  7.43176912e+11  7.43176912e+11 -6.48212433e-03\n",
      "  1.75476074e-04]\n",
      "intercept  [-7.54913738e+11]\n",
      "전체 데이터셋 정확도 : 0.005\n"
     ]
    }
   ],
   "source": [
    "slr = LinearRegression()\n",
    "slr.fit(X_all,y_all)\n",
    "print('slope: ', slr.coef_[0])\n",
    "print('intercept ', slr.intercept_)\n",
    "\n",
    "#선형 회귀분석모델의 정확도 확인\n",
    "print('전체 데이터셋 정확도 : %.3f' % slr.score(X_all, y_all))"
   ]
  },
  {
   "cell_type": "code",
   "execution_count": 135,
   "metadata": {},
   "outputs": [
    {
     "name": "stdout",
     "output_type": "stream",
     "text": [
      "slope:  [ 0.07067288 -0.00748316  0.49258334  0.65843813  0.26615781  0.02644703\n",
      " -0.1211508  -0.30235149  0.46015488  0.5435595   0.07959936  0.14289641\n",
      "  0.29335624  0.29961394  0.34744715 -0.04663149  0.00144157]\n",
      "intercept  [1.08331374]\n",
      "전체 데이터셋 정확도 : 0.86\n"
     ]
    },
    {
     "name": "stderr",
     "output_type": "stream",
     "text": [
      "C:\\Users\\wjdtj\\Anaconda3\\lib\\site-packages\\sklearn\\linear_model\\logistic.py:433: FutureWarning: Default solver will be changed to 'lbfgs' in 0.22. Specify a solver to silence this warning.\n",
      "  FutureWarning)\n",
      "C:\\Users\\wjdtj\\Anaconda3\\lib\\site-packages\\sklearn\\utils\\validation.py:761: DataConversionWarning: A column-vector y was passed when a 1d array was expected. Please change the shape of y to (n_samples, ), for example using ravel().\n",
      "  y = column_or_1d(y, warn=True)\n"
     ]
    }
   ],
   "source": [
    "log = LogisticRegression() #로지스틱 회귀분석 시행\n",
    "\n",
    "log.fit(X_all,y_all) \n",
    "print('slope: ', log.coef_[0])\n",
    "print('intercept ', log.intercept_)\n",
    "\n",
    "#로지스틱 회귀분석모델의 정확도 확인\n",
    "print('전체 데이터셋 정확도 : %.2f' % log.score(X,y))\n",
    "\n"
   ]
  },
  {
   "cell_type": "code",
   "execution_count": 136,
   "metadata": {},
   "outputs": [],
   "source": [
    "#클러스터 1~4 별 로지스틱 회귀분석 시행"
   ]
  },
  {
   "cell_type": "code",
   "execution_count": 137,
   "metadata": {},
   "outputs": [
    {
     "name": "stderr",
     "output_type": "stream",
     "text": [
      "C:\\Users\\wjdtj\\Anaconda3\\lib\\site-packages\\sklearn\\linear_model\\logistic.py:433: FutureWarning: Default solver will be changed to 'lbfgs' in 0.22. Specify a solver to silence this warning.\n",
      "  FutureWarning)\n"
     ]
    },
    {
     "name": "stdout",
     "output_type": "stream",
     "text": [
      "slope:  [ 0.14467012 -0.23505449  0.62713401  0.88918691  0.48129285 -0.16918735\n",
      " -0.26916807 -0.5419559   0.48356753  0.41903126  0.0243193   0.16941172\n",
      "  0.19986112  0.26469456  0.29295069 -0.03108546  0.00547588]\n",
      "intercept  [0.92691809]\n",
      "전체 데이터셋 정확도 : 0.85\n"
     ]
    },
    {
     "name": "stderr",
     "output_type": "stream",
     "text": [
      "C:\\Users\\wjdtj\\Anaconda3\\lib\\site-packages\\sklearn\\utils\\validation.py:761: DataConversionWarning: A column-vector y was passed when a 1d array was expected. Please change the shape of y to (n_samples, ), for example using ravel().\n",
      "  y = column_or_1d(y, warn=True)\n"
     ]
    }
   ],
   "source": [
    "#클러스터 1\n",
    "X_cluster1 = visit_with_dummy_cluster1[['purpose.1','purpose.2','purpose.3','purpose.4',\n",
    "                      'purpose.5','purpose.6','purpose.7','purpose.8',\n",
    "                      'travel_type.1','travel_type.2','travel_type.3',\n",
    "                      'season.1','season.2','season.3','season.4',\n",
    "                      'num_companion', 'period']]\n",
    "y_cluster1 = visit_with_dummy_cluster1[['Y']]\n",
    "\n",
    "\n",
    "log = LogisticRegression() #로지스틱 회귀분석 시행\n",
    "\n",
    "log.fit(X_cluster1,y_cluster1) \n",
    "print('slope: ', log.coef_[0])\n",
    "print('intercept ', log.intercept_)\n",
    "\n",
    "#로지스틱 회귀분석모델의 정확도 확인\n",
    "print('전체 데이터셋 정확도 : %.2f' % log.score(X_cluster1,y_cluster1))"
   ]
  },
  {
   "cell_type": "code",
   "execution_count": 138,
   "metadata": {},
   "outputs": [
    {
     "name": "stdout",
     "output_type": "stream",
     "text": [
      "slope:  [-7.08100120e-02  4.07630287e-01  7.64102918e-01  5.85395889e-01\n",
      " -3.16822542e-01  2.04765999e-01  1.62553503e-01 -4.21901093e-01\n",
      "  3.88450853e-01  9.25791537e-01  6.72559660e-04  1.41391238e-01\n",
      "  4.63007242e-01  4.01960436e-01  3.08556033e-01 -5.96556544e-02\n",
      " -4.02371015e-03]\n",
      "intercept  [1.31491495]\n",
      "전체 데이터셋 정확도 : 0.86\n"
     ]
    },
    {
     "name": "stderr",
     "output_type": "stream",
     "text": [
      "C:\\Users\\wjdtj\\Anaconda3\\lib\\site-packages\\sklearn\\linear_model\\logistic.py:433: FutureWarning: Default solver will be changed to 'lbfgs' in 0.22. Specify a solver to silence this warning.\n",
      "  FutureWarning)\n",
      "C:\\Users\\wjdtj\\Anaconda3\\lib\\site-packages\\sklearn\\utils\\validation.py:761: DataConversionWarning: A column-vector y was passed when a 1d array was expected. Please change the shape of y to (n_samples, ), for example using ravel().\n",
      "  y = column_or_1d(y, warn=True)\n"
     ]
    }
   ],
   "source": [
    "#클러스터 2\n",
    "X_cluster2 = visit_with_dummy_cluster2[['purpose.1','purpose.2','purpose.3','purpose.4',\n",
    "                      'purpose.5','purpose.6','purpose.7','purpose.8',\n",
    "                      'travel_type.1','travel_type.2','travel_type.3',\n",
    "                      'season.1','season.2','season.3','season.4',\n",
    "                      'num_companion', 'period']]\n",
    "y_cluster2 = visit_with_dummy_cluster2[['Y']]\n",
    "\n",
    "\n",
    "log = LogisticRegression() #로지스틱 회귀분석 시행\n",
    "\n",
    "log.fit(X_cluster2,y_cluster2) \n",
    "print('slope: ', log.coef_[0])\n",
    "print('intercept ', log.intercept_)\n",
    "\n",
    "#로지스틱 회귀분석모델의 정확도 확인\n",
    "print('전체 데이터셋 정확도 : %.2f' % log.score(X_cluster2,y_cluster2))"
   ]
  },
  {
   "cell_type": "code",
   "execution_count": 139,
   "metadata": {},
   "outputs": [
    {
     "name": "stdout",
     "output_type": "stream",
     "text": [
      "slope:  [ 0.15864317  0.09970552  0.09199252  0.4203643   0.2761504   0.12005734\n",
      " -0.25101577  0.06365327  0.60425107  0.03494146  0.34035822  0.12674265\n",
      "  0.24384558  0.21151286  0.39744966 -0.01294277  0.00146209]\n",
      "intercept  [0.97955075]\n",
      "전체 데이터셋 정확도 : 0.88\n"
     ]
    },
    {
     "name": "stderr",
     "output_type": "stream",
     "text": [
      "C:\\Users\\wjdtj\\Anaconda3\\lib\\site-packages\\sklearn\\linear_model\\logistic.py:433: FutureWarning: Default solver will be changed to 'lbfgs' in 0.22. Specify a solver to silence this warning.\n",
      "  FutureWarning)\n",
      "C:\\Users\\wjdtj\\Anaconda3\\lib\\site-packages\\sklearn\\utils\\validation.py:761: DataConversionWarning: A column-vector y was passed when a 1d array was expected. Please change the shape of y to (n_samples, ), for example using ravel().\n",
      "  y = column_or_1d(y, warn=True)\n"
     ]
    }
   ],
   "source": [
    "#클러스터 3\n",
    "X_cluster3 = visit_with_dummy_cluster3[['purpose.1','purpose.2','purpose.3','purpose.4',\n",
    "                      'purpose.5','purpose.6','purpose.7','purpose.8',\n",
    "                      'travel_type.1','travel_type.2','travel_type.3',\n",
    "                      'season.1','season.2','season.3','season.4',\n",
    "                      'num_companion', 'period']]\n",
    "y_cluster3 = visit_with_dummy_cluster3[['Y']]\n",
    "\n",
    "\n",
    "log = LogisticRegression() #로지스틱 회귀분석 시행\n",
    "\n",
    "log.fit(X_cluster3,y_cluster3) \n",
    "print('slope: ', log.coef_[0])\n",
    "print('intercept ', log.intercept_)\n",
    "\n",
    "#로지스틱 회귀분석모델의 정확도 확인\n",
    "print('전체 데이터셋 정확도 : %.2f' % log.score(X_cluster3,y_cluster3))"
   ]
  },
  {
   "cell_type": "code",
   "execution_count": 140,
   "metadata": {},
   "outputs": [
    {
     "name": "stdout",
     "output_type": "stream",
     "text": [
      "slope:  [-0.0186534   0.27469152 -0.07303481 -0.14289229  0.62696301 -0.05685457\n",
      "  0.27534835  0.03657491  0.38364619  0.36106024  0.17743629  0.00527649\n",
      "  0.21017876  0.29112017  0.4155673  -0.00882252  0.00540825]\n",
      "intercept  [0.92214272]\n",
      "전체 데이터셋 정확도 : 0.82\n"
     ]
    },
    {
     "name": "stderr",
     "output_type": "stream",
     "text": [
      "C:\\Users\\wjdtj\\Anaconda3\\lib\\site-packages\\sklearn\\linear_model\\logistic.py:433: FutureWarning: Default solver will be changed to 'lbfgs' in 0.22. Specify a solver to silence this warning.\n",
      "  FutureWarning)\n",
      "C:\\Users\\wjdtj\\Anaconda3\\lib\\site-packages\\sklearn\\utils\\validation.py:761: DataConversionWarning: A column-vector y was passed when a 1d array was expected. Please change the shape of y to (n_samples, ), for example using ravel().\n",
      "  y = column_or_1d(y, warn=True)\n"
     ]
    }
   ],
   "source": [
    "#클러스터 4\n",
    "X_cluster4 = visit_with_dummy_cluster4[['purpose.1','purpose.2','purpose.3','purpose.4',\n",
    "                      'purpose.5','purpose.6','purpose.7','purpose.8',\n",
    "                      'travel_type.1','travel_type.2','travel_type.3',\n",
    "                      'season.1','season.2','season.3','season.4',\n",
    "                      'num_companion', 'period']]\n",
    "y_cluster4 = visit_with_dummy_cluster4[['Y']]\n",
    "\n",
    "\n",
    "log = LogisticRegression() #로지스틱 회귀분석 시행\n",
    "\n",
    "log.fit(X_cluster4,y_cluster4) \n",
    "print('slope: ', log.coef_[0])\n",
    "print('intercept ', log.intercept_)\n",
    "\n",
    "#로지스틱 회귀분석모델의 정확도 확인\n",
    "print('전체 데이터셋 정확도 : %.2f' % log.score(X_cluster4,y_cluster4))"
   ]
  },
  {
   "cell_type": "code",
   "execution_count": 142,
   "metadata": {},
   "outputs": [],
   "source": [
    "#--------------------------------------------------------------------------------"
   ]
  },
  {
   "cell_type": "code",
   "execution_count": null,
   "metadata": {},
   "outputs": [],
   "source": []
  },
  {
   "cell_type": "code",
   "execution_count": null,
   "metadata": {},
   "outputs": [],
   "source": []
  },
  {
   "cell_type": "code",
   "execution_count": null,
   "metadata": {},
   "outputs": [],
   "source": []
  },
  {
   "cell_type": "code",
   "execution_count": null,
   "metadata": {},
   "outputs": [],
   "source": [
    "def lin_reg_plot(X, y, model):\n",
    "    plt.scatter(X, y, c='blue', edgecolors='white')\n",
    "    plt.plot(X, model.predict(X), color='black')\n",
    "lin_reg_plot(X, y, slr)\n",
    "plt.xlabel('a') \n",
    "plt.ylabel('b')\n",
    "plt.title('c')"
   ]
  },
  {
   "cell_type": "code",
   "execution_count": null,
   "metadata": {},
   "outputs": [],
   "source": [
    "X_dummies = pd.get_dummies(X[['purpose','travel_type','season']])\n",
    "print(\"get_dummies  후의 특성: \\n\",list(X_dummies.columns),\"\\n\")\n",
    "print(X_dummies)"
   ]
  },
  {
   "cell_type": "code",
   "execution_count": null,
   "metadata": {},
   "outputs": [],
   "source": [
    "#purpose one_hot_encoding\n",
    "purpose = visit_with_revisit_0or1[['purpose']]\n",
    "\n",
    "enc = OneHotEncoder()\n",
    "enc.fit(purpose)\n",
    "one_hot_purpose = enc.transform(purpose).toarray()\n",
    "one_hot_purpose.shape\n",
    "\n",
    "\n",
    "#travel_type one_hot_encoding\n",
    "travel_type = visit_with_revisit_0or1[['travel_type']]\n",
    "\n",
    "enc.fit(travel_type)\n",
    "one_hot_travel_type = enc.transform(travel_type).toarray()\n",
    "one_hot_travel_type.shape\n",
    "\n",
    "#season one_hot_encoding\n",
    "season = visit_with_revisit_0or1[['season']]\n",
    "\n",
    "enc.fit(season)\n",
    "one_hot_season = enc.transform(season).toarray()\n",
    "one_hot_season.shape\n",
    "\n",
    "visit_with_revisit_0or1['purpose'] = one_hot_purpose\n",
    "visit_with_revisit_0or1['travel_type']= one_hot_travel_type\n",
    "visit_with_revisit_0or1['season'] = one_hot_season\n",
    "\n",
    "type(one_hot_purpose)\n",
    "print(one_hot_purpose)"
   ]
  }
 ],
 "metadata": {
  "kernelspec": {
   "display_name": "Python 3",
   "language": "python",
   "name": "python3"
  },
  "language_info": {
   "codemirror_mode": {
    "name": "ipython",
    "version": 3
   },
   "file_extension": ".py",
   "mimetype": "text/x-python",
   "name": "python",
   "nbconvert_exporter": "python",
   "pygments_lexer": "ipython3",
   "version": "3.7.1"
  }
 },
 "nbformat": 4,
 "nbformat_minor": 2
}
